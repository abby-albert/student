{
 "cells": [
  {
   "cell_type": "code",
   "execution_count": null,
   "metadata": {},
   "outputs": [],
   "source": [
    "toc: true\n",
    "comments: true\n",
    "layout: post\n",
    "title: TEST\n",
    "description: This is a test!!!\n",
    "type: hacks\n",
    "courses: { compsci: {week: 3} }"
   ]
  }
 ],
 "metadata": {
  "language_info": {
   "name": "python"
  },
  "orig_nbformat": 4
 },
 "nbformat": 4,
 "nbformat_minor": 2
}
