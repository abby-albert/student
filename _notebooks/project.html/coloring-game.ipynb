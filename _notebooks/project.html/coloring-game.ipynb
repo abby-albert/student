<!DOCTYPE html>
<html>
<head>
    <title>Coloring Game</title>
    <style>
        /* Add styles for your coloring canvas */
        #coloring-canvas {
            border: 1px solid #000;
        }
    </style>
</head>
<body>
    <h1>Coloring Game</h1>
    <canvas id="coloring-canvas" width="400" height="400"></canvas>
    <br>
    <button onclick="changeColor()">Change Color</button>

    <script>
        const canvas = document.getElementById("coloring-canvas");
        const ctx = canvas.getContext("2d");

        let currentColor = "#FF0000"; // Initial color

        // Function to change the drawing color
        function changeColor() {
            currentColor = prompt("Enter a color (e.g., #FF0000 for red):", currentColor);
        }

        // Event listener for mouse clicks
        canvas.addEventListener("mousedown", function (e) {
            const x = e.clientX - canvas.getBoundingClientRect().left;
            const y = e.clientY - canvas.getBoundingClientRect().top;

            ctx.fillStyle = currentColor;
            ctx.beginPath();
            ctx.arc(x, y, 10, 0, Math.PI * 2);
            ctx.fill();
        });
    </script>
</body>
</html>
