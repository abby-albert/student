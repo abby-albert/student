{
 "cells": [
  {
   "cell_type": "code",
   "execution_count": 3,
   "metadata": {
    "vscode": {
     "languageId": "javascript"
    }
   },
   "outputs": [
    {
     "name": "stdout",
     "output_type": "stream",
     "text": [
      "Hello, World!\n"
     ]
    }
   ],
   "source": [
    "print(\"Hello, World!\");"
   ]
  },
  {
   "cell_type": "code",
   "execution_count": 1,
   "metadata": {
    "vscode": {
     "languageId": "javascript"
    }
   },
   "outputs": [
    {
     "ename": "SyntaxError",
     "evalue": "unterminated string literal (detected at line 11) (1448258433.py, line 11)",
     "output_type": "error",
     "traceback": [
      "\u001b[0;36m  Cell \u001b[0;32mIn[1], line 11\u001b[0;36m\u001b[0m\n\u001b[0;31m    alert(`Congratulations! You guessed it. It's a ${guess}!`);\u001b[0m\n\u001b[0m                                              ^\u001b[0m\n\u001b[0;31mSyntaxError\u001b[0m\u001b[0;31m:\u001b[0m unterminated string literal (detected at line 11)\n"
     ]
    }
   ],
   "source": [
    "// Define an array of animals\n",
    "const animals = [\"lion\", \"tiger\", \"elephant\", \"giraffe\", \"zebra\", \"rhinoceros\", \"kangaroo\", \"koala\", \"penguin\", \"whale\"];\n",
    "\n",
    "// Function to make a guess\n",
    "function makeGuess() {\n",
    "    const randomIndex = Math.floor(Math.random() * animals.length);\n",
    "    const guess = animals[randomIndex];\n",
    "    const response = prompt(`I'm thinking of an animal. Can you guess what it is?\\nHint: It's a ${guess}. (Type your answer)`);\n",
    "\n",
    "    if (response && response.toLowerCase() === guess) {\n",
    "        alert(`Congratulations! You guessed it. It's a ${guess}!`);\n",
    "    } else {\n",
    "        alert(`Sorry, that's not correct. The answer is a ${guess}.`);\n",
    "    }\n",
    "}\n",
    "\n",
    "// Start the game\n",
    "makeGuess();\n"
   ]
  }
 ],
 "metadata": {
  "kernelspec": {
   "display_name": "Python 3",
   "language": "python",
   "name": "python3"
  },
  "language_info": {
   "codemirror_mode": {
    "name": "ipython",
    "version": 3
   },
   "file_extension": ".py",
   "mimetype": "text/x-python",
   "name": "python",
   "nbconvert_exporter": "python",
   "pygments_lexer": "ipython3",
   "version": "3.11.4"
  },
  "orig_nbformat": 4
 },
 "nbformat": 4,
 "nbformat_minor": 2
}
