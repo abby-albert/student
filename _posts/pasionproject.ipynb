{
 "cells": [
  {
   "cell_type": "code",
   "execution_count": 1,
   "metadata": {
    "vscode": {
     "languageId": "html"
    }
   },
   "outputs": [
    {
     "data": {
      "text/html": [
       "<!DOCTYPE html>\n",
       "<html lang=\"en\">\n",
       "<head>\n",
       "    <meta charset=\"UTF-8\">\n",
       "    <meta name=\"viewport\" content=\"width=device-width, initial-scale=1.0\">\n",
       "    <title>Periodic Table Maze Game</title>\n",
       "    <link rel=\"stylesheet\" href=\"styles.css\">\n",
       "</head>\n",
       "<body>\n",
       "    <div class=\"maze-container\" id=\"maze-container\"></div>\n",
       "    <script src=\"maze.js\"></script>\n",
       "</body>\n",
       "</html>\n"
      ],
      "text/plain": [
       "<IPython.core.display.HTML object>"
      ]
     },
     "metadata": {},
     "output_type": "display_data"
    }
   ],
   "source": [
    "%%html\n",
    "<!DOCTYPE html>\n",
    "<html lang=\"en\">\n",
    "<head>\n",
    "    <meta charset=\"UTF-8\">\n",
    "    <meta name=\"viewport\" content=\"width=device-width, initial-scale=1.0\">\n",
    "    <title>Periodic Table Maze Game</title>\n",
    "    <link rel=\"stylesheet\" href=\"styles.css\">\n",
    "</head>\n",
    "<body>\n",
    "    <div class=\"maze-container\" id=\"maze-container\"></div>\n",
    "    <script src=\"maze.js\"></script>\n",
    "</body>\n",
    "</html>\n"
   ]
  },
  {
   "cell_type": "code",
   "execution_count": 9,
   "metadata": {
    "vscode": {
     "languageId": "javascript"
    }
   },
   "outputs": [
    {
     "data": {
      "application/javascript": "const canvas = document.getElementById(\"canvas\");\nconst ctx = canvas.getContext(\"2d\");\n\nconst elements = [\n    { symbol: \"H\", name: \"Hydrogen\", x: 50, y: 50 },\n    { symbol: \"He\", name: \"Helium\", x: 150, y: 50 },\n    // Add more elements here\n    // ...\n];\n\n// Function to draw the periodic table\nfunction drawPeriodicTable() {\n    ctx.clearRect(0, 0, canvas.width, canvas.height);\n\n    elements.forEach(element => {\n        ctx.fillStyle = \"#ccc\";\n        ctx.fillRect(element.x, element.y, 50, 50);\n        ctx.fillStyle = \"#000\";\n        ctx.fillText(element.symbol, element.x + 20, element.y + 25);\n    });\n}\n\n// Function to handle mouse clicks\nfunction handleMouseClick(event) {\n    const rect = canvas.getBoundingClientRect();\n    const mouseX = event.clientX - rect.left;\n    const mouseY = event.clientY - rect.top;\n\n    elements.forEach(element => {\n        if (mouseX >= element.x && mouseX <= element.x + 50 && mouseY >= element.y && mouseY <= element.y + 50) {\n            alert(`Element: ${element.name}`);\n        }\n    });\n}\n\n// Add event listener for mouse clicks\ncanvas.addEventListener(\"click\", handleMouseClick);\n\n// Draw the periodic table when the page loads\nwindow.onload = drawPeriodicTable;\n",
      "text/plain": [
       "<IPython.core.display.Javascript object>"
      ]
     },
     "metadata": {},
     "output_type": "display_data"
    }
   ],
   "source": [
    "%%javascript \n",
    "const canvas = document.getElementById(\"canvas\");\n",
    "const ctx = canvas.getContext(\"2d\");\n",
    "\n",
    "const elements = [\n",
    "    { symbol: \"H\", name: \"Hydrogen\", x: 50, y: 50 },\n",
    "    { symbol: \"He\", name: \"Helium\", x: 150, y: 50 },\n",
    "    // Add more elements here\n",
    "    // ...\n",
    "];\n",
    "\n",
    "// Function to draw the periodic table\n",
    "function drawPeriodicTable() {\n",
    "    ctx.clearRect(0, 0, canvas.width, canvas.height);\n",
    "\n",
    "    elements.forEach(element => {\n",
    "        ctx.fillStyle = \"#ccc\";\n",
    "        ctx.fillRect(element.x, element.y, 50, 50);\n",
    "        ctx.fillStyle = \"#000\";\n",
    "        ctx.fillText(element.symbol, element.x + 20, element.y + 25);\n",
    "    });\n",
    "}\n",
    "\n",
    "// Function to handle mouse clicks\n",
    "function handleMouseClick(event) {\n",
    "    const rect = canvas.getBoundingClientRect();\n",
    "    const mouseX = event.clientX - rect.left;\n",
    "    const mouseY = event.clientY - rect.top;\n",
    "\n",
    "    elements.forEach(element => {\n",
    "        if (mouseX >= element.x && mouseX <= element.x + 50 && mouseY >= element.y && mouseY <= element.y + 50) {\n",
    "            alert(`Element: ${element.name}`);\n",
    "        }\n",
    "    });\n",
    "}\n",
    "\n",
    "// Add event listener for mouse clicks\n",
    "canvas.addEventListener(\"click\", handleMouseClick);\n",
    "\n",
    "// Draw the periodic table when the page loads\n",
    "window.onload = drawPeriodicTable;\n"
   ]
  }
 ],
 "metadata": {
  "kernelspec": {
   "display_name": "Python 3",
   "language": "python",
   "name": "python3"
  },
  "language_info": {
   "codemirror_mode": {
    "name": "ipython",
    "version": 3
   },
   "file_extension": ".py",
   "mimetype": "text/x-python",
   "name": "python",
   "nbconvert_exporter": "python",
   "pygments_lexer": "ipython3",
   "version": "3.11.4"
  },
  "orig_nbformat": 4
 },
 "nbformat": 4,
 "nbformat_minor": 2
}
