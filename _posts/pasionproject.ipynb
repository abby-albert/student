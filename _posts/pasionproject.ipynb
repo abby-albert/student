const mazeContainer = document.getElementById("maze-container");

// Function to generate the maze
function generateMaze() {
    // Generate maze logic here (can use algorithms like Prim's or Recursive Backtracking)
    // For simplicity, let's assume we have a 10x10 grid where 0 represents empty path and 1 represents wall.
    const maze = [
        [0, 1, 0, 0, 0, 1, 1, 0, 0, 0],
        [0, 0, 0, 1, 1, 0, 0, 0, 1, 0],
        // ... (more maze rows)
    ];

    // Render the maze
    for (let row = 0; row < maze.length; row++) {
        for (let col = 0; col < maze[row].length; col++) {
            const cell = document.createElement("div");
            cell.className = maze[row][col] ? "wall" : "path";
            mazeContainer.appendChild(cell);
        }
    }
}

// Generate the maze when the page loads
window.onload = generateMaze;
