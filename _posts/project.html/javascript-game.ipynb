{
 "cells": [
  {
   "cell_type": "code",
   "execution_count": 3,
   "metadata": {
    "vscode": {
     "languageId": "javascript"
    }
   },
   "outputs": [
    {
     "name": "stdout",
     "output_type": "stream",
     "text": [
      "Hello, World!\n"
     ]
    }
   ],
   "source": [
    "print(\"Hello, World!\");"
   ]
  },
  {
   "cell_type": "code",
   "execution_count": 10,
   "metadata": {
    "vscode": {
     "languageId": "javascript"
    }
   },
   "outputs": [
    {
     "data": {
      "application/javascript": "<html>\n<head>\n    <title>Periodic Table Element Guessing Game</title>\n    <style>\n        body {\n            font-family: Arial, sans-serif;\n        }\n    </style>\n</head>\n<body>\n    <h1>Periodic Table Element Guessing Game</h1>\n    <p>Guess the name of the element based on its symbol:</p>\n    <div id=\"game-container\">\n        <div id=\"element-symbol\"></div>\n        <input type=\"text\" id=\"user-guess\" placeholder=\"Enter your guess\">\n        <button id=\"check-button\">Check</button>\n        <p id=\"result\"></p>\n    </div>\n\n    <script>\n        const elements = [\n            { symbol: 'H', name: 'hydrogen' },\n            { symbol: 'He', name: 'helium' },\n            { symbol: 'Li', name: 'lithium' },\n            { symbol: 'O', name: 'oxygen'}\n            { symbol: 'N', name: 'nitrogen'}\n            // Add more elements here\n        ];\n\n        const elementSymbol = document.getElementById('element-symbol');\n        const userGuessInput = document.getElementById('user-guess');\n        const checkButton = document.getElementById('check-button');\n        const result = document.getElementById('result');\n\n        let currentElementIndex = 0;\n\n        function displayNextElement() {\n            if (currentElementIndex < elements.length) {\n                elementSymbol.textContent = elements[currentElementIndex].symbol;\n                userGuessInput.value = '';\n                result.textContent = '';\n            } else {\n                elementSymbol.textContent = 'Game Over';\n                userGuessInput.value = '';\n                result.textContent = 'You have guessed all elements!';\n            }\n        }\n\n        checkButton.addEventListener('click', function () {\n            const userGuess = userGuessInput.value.toLowerCase();\n            const correctName = elements[currentElementIndex].name.toLowerCase();\n\n            if (userGuess === correctName) {\n                result.textContent = 'Correct!';\n                currentElementIndex++;\n                displayNextElement();\n            } else {\n                result.textContent = 'Incorrect. Try again.';\n            }\n        });\n\n        // Start the game\n        displayNextElement();\n    </script>\n</body>\n</html>\n",
      "text/plain": [
       "<IPython.core.display.Javascript object>"
      ]
     },
     "metadata": {},
     "output_type": "display_data"
    }
   ],
   "source": [
    "%%javascript\n",
    "<html>\n",
    "<head>\n",
    "    <title>Periodic Table Element Guessing Game</title>\n",
    "    <style>\n",
    "        body {\n",
    "            font-family: Arial, sans-serif;\n",
    "        }\n",
    "    </style>\n",
    "</head>\n",
    "<body>\n",
    "    <h1>Periodic Table Element Guessing Game</h1>\n",
    "    <p>Guess the name of the element based on its symbol:</p>\n",
    "    <div id=\"game-container\">\n",
    "        <div id=\"element-symbol\"></div>\n",
    "        <input type=\"text\" id=\"user-guess\" placeholder=\"Enter your guess\">\n",
    "        <button id=\"check-button\">Check</button>\n",
    "        <p id=\"result\"></p>\n",
    "    </div>\n",
    "\n",
    "    <script>\n",
    "        const elements = [\n",
    "            { symbol: 'H', name: 'hydrogen' },\n",
    "            { symbol: 'He', name: 'helium' },\n",
    "            { symbol: 'Li', name: 'lithium' },\n",
    "            { symbol: 'O', name: 'oxygen'}\n",
    "            { symbol: 'N', name: 'nitrogen'}\n",
    "            // Add more elements here\n",
    "        ];\n",
    "\n",
    "        const elementSymbol = document.getElementById('element-symbol');\n",
    "        const userGuessInput = document.getElementById('user-guess');\n",
    "        const checkButton = document.getElementById('check-button');\n",
    "        const result = document.getElementById('result');\n",
    "\n",
    "        let currentElementIndex = 0;\n",
    "\n",
    "        function displayNextElement() {\n",
    "            if (currentElementIndex < elements.length) {\n",
    "                elementSymbol.textContent = elements[currentElementIndex].symbol;\n",
    "                userGuessInput.value = '';\n",
    "                result.textContent = '';\n",
    "            } else {\n",
    "                elementSymbol.textContent = 'Game Over';\n",
    "                userGuessInput.value = '';\n",
    "                result.textContent = 'You have guessed all elements!';\n",
    "            }\n",
    "        }\n",
    "\n",
    "        checkButton.addEventListener('click', function () {\n",
    "            const userGuess = userGuessInput.value.toLowerCase();\n",
    "            const correctName = elements[currentElementIndex].name.toLowerCase();\n",
    "\n",
    "            if (userGuess === correctName) {\n",
    "                result.textContent = 'Correct!';\n",
    "                currentElementIndex++;\n",
    "                displayNextElement();\n",
    "            } else {\n",
    "                result.textContent = 'Incorrect. Try again.';\n",
    "            }\n",
    "        });\n",
    "\n",
    "        // Start the game\n",
    "        displayNextElement();\n",
    "    </script>\n",
    "</body>\n",
    "</html>\n"
   ]
  }
 ],
 "metadata": {
  "kernelspec": {
   "display_name": "Python 3",
   "language": "python",
   "name": "python3"
  },
  "language_info": {
   "codemirror_mode": {
    "name": "ipython",
    "version": 3
   },
   "file_extension": ".py",
   "mimetype": "text/x-python",
   "name": "python",
   "nbconvert_exporter": "python",
   "pygments_lexer": "ipython3",
   "version": "3.11.4"
  },
  "orig_nbformat": 4
 },
 "nbformat": 4,
 "nbformat_minor": 2
}
