{
 "cells": [
  {
   "cell_type": "markdown",
   "metadata": {},
   "source": [
    "---\n",
    "toc: True\n",
    "comments: true\n",
    "layout: post\n",
    "title: lesson 4\n",
    "description: homework for student lesson 4\n",
    "courses: {'csa': {'week': 5}}\n",
    "type: tangibles\n",
    "---"
   ]
  },
  {
   "cell_type": "code",
   "execution_count": 5,
   "metadata": {},
   "outputs": [
    {
     "name": "stdout",
     "output_type": "stream",
     "text": [
      "At Morning, I usually: Wake up\n",
      "At Morning, I usually: Exercise\n",
      "At Morning, I usually: Have breakfast\n",
      "At Morning, I usually: Get ready for work\n",
      "\n",
      "\n",
      "At Afternoon, I usually: Have lunch\n",
      "At Afternoon, I usually: Attend meetings\n",
      "At Afternoon, I usually: Work on projects\n",
      "At Afternoon, I usually: Take a short break\n",
      "\n",
      "\n",
      "At Evening, I usually: Have dinner\n",
      "At Evening, I usually: Relax and watch TV\n",
      "At Evening, I usually: Spend time with family\n",
      "At Evening, I usually: Prepare for the next day\n"
     ]
    }
   ],
   "source": [
    "def describe_daytime(daytime, activities):\n",
    "    if not activities:\n",
    "        return\n",
    "    else:\n",
    "        current_activity = activities[0]\n",
    "        print(f\"At {daytime}, I usually: {current_activity}\")\n",
    "        remaining_activities = activities[1:]\n",
    "        describe_daytime(daytime, remaining_activities)\n",
    "\n",
    "# Define lists of activities for different times of the day\n",
    "morning_activities = [\n",
    "    \"Wake up\",\n",
    "    \"Exercise\",\n",
    "    \"Have breakfast\",\n",
    "    \"Get ready for work\",\n",
    "]\n",
    "\n",
    "afternoon_activities = [\n",
    "    \"Have lunch\",\n",
    "    \"Attend meetings\",\n",
    "    \"Work on projects\",\n",
    "    \"Take a short break\",\n",
    "]\n",
    "\n",
    "evening_activities = [\n",
    "    \"Have dinner\",\n",
    "    \"Relax and watch TV\",\n",
    "    \"Spend time with family\",\n",
    "    \"Prepare for the next day\",\n",
    "]\n",
    "\n",
    "# Call the recursive function for each time of the day\n",
    "describe_daytime(\"Morning\", morning_activities)\n",
    "print(\"\\n\")\n",
    "describe_daytime(\"Afternoon\", afternoon_activities)\n",
    "print(\"\\n\")\n",
    "describe_daytime(\"Evening\", evening_activities)\n",
    "\n"
   ]
  },
  {
   "cell_type": "code",
   "execution_count": 4,
   "metadata": {},
   "outputs": [
    {
     "name": "stdout",
     "output_type": "stream",
     "text": [
      "0\n",
      "1\n",
      "1\n",
      "2\n",
      "3\n",
      "5\n",
      "8\n",
      "13\n"
     ]
    }
   ],
   "source": [
    "def fibonacci(x):\n",
    "    if x == 1:\n",
    "        return 0  # First terminating statement\n",
    "    if x == 2:\n",
    "        return 1  # Second terminating statement\n",
    "    else:\n",
    "        return fibonacci(x-1) + fibonacci(x-2)\n",
    "\n",
    "for i in range(8):\n",
    "    print(fibonacci(i+1))"
   ]
  },
  {
   "cell_type": "markdown",
   "metadata": {},
   "source": [
    "You need two terminating statements because they provide the necessary conditions for the function to stop recurring. They act as stopping criteria, ensuring that the recursive function ends when it reaches these specific positions in the Fibonacci sequence."
   ]
  }
 ],
 "metadata": {
  "kernelspec": {
   "display_name": "Python 3",
   "language": "python",
   "name": "python3"
  },
  "language_info": {
   "codemirror_mode": {
    "name": "ipython",
    "version": 3
   },
   "file_extension": ".py",
   "mimetype": "text/x-python",
   "name": "python",
   "nbconvert_exporter": "python",
   "pygments_lexer": "ipython3",
   "version": "3.11.5"
  },
  "orig_nbformat": 4
 },
 "nbformat": 4,
 "nbformat_minor": 2
}
