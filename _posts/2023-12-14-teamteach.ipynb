{
 "cells": [
  {
   "cell_type": "markdown",
   "metadata": {},
   "source": [
    "### Crowdsourcing\n",
    "Crowdsourcing is the action of acquirring work and information from a large group of people via the internet. This information can be obtained from social media and other forms of media throughout the internet. Crowdsourcing allows companies to work with people throughout the world and aquire a variety of different skills. \n",
    "![crowdsourcing image](https://www.investopedia.com/thmb/-csD4ERbU65LWGDvuXuPvUV8cUY=/1500x0/filters:no_upscale():max_bytes(150000):strip_icc()/crowdsourcing.asp-final-7a1d5dcc4f3b45c38c0a5050354f66f4.png)\n",
    "\n",
    "# variations of crowdsourcing\n",
    "Idea Generation: Seeking ideas and suggestions from the crowd to solve a problem or improve a product.\n",
    "\n",
    "Microtasks: Breaking down a large task into smaller, manageable microtasks that can be distributed to a crowd.\n",
    "\n",
    "Funding: Crowdfunding platforms, where a crowd financially supports projects, products, or causes.\n",
    "\n",
    "ata Collection: Gathering and analyzing data through contributions from a large number of individuals.\n",
    "\n",
    "Open Innovation: Involving external contributors in the innovation process of a company.\n",
    "\n",
    "# benefits of crowdsourcing\n",
    "Crowdsourcing is cost efficent because it allows access to talented workers without the need for a traditional workforce. Also, projects and work can be completed in a lesser amount of time due to the many contributors. Finally, the diversity of contributors can lead to innovative ideas and solutions that may have not emerged in a traditional setting. \n",
    "\n",
    "# Example of crowdsourcing\n",
    " A well-known example of crowdsourcing is the website Wikipedia. Wikipedia is an online encyclopedia where anybody can contribute and add information onto the site. \n",
    "\n",
    "# drawbacks of crowdsourcing\n",
    "There might be complications when crowdsourcing such as difficulties in confidentiality and communication between the groups involved. There is also a slight chance of receiving low quality work if a collaborater misunderstands the project's requirements.\n",
    "## Popcorn Hack  \n",
    "How can organizations optimize crowdsoucing while minimizing the drawbacks?\n",
    "- you can use AI\n"
   ]
  },
  {
   "cell_type": "markdown",
   "metadata": {},
   "source": [
    "## Citizen Science  \n",
    "- Citizen Science is scientific research that the general population helps to conduct. Ordinary citizens, often non-scientists, help contribute data to research projects using computing devices.\n",
    "- Gives a wide range of people the ability to contribute to scientific studies which provides more diverse data.\n",
    "### Popcorn Hack  \n",
    "How do you believe participating in a citizen science project could enhance both scientific research and public engagement, and can you share any specific areas of scientific study where citizen science might make a significant impact in the future?\n",
    "- give more data for a more acurate representation."
   ]
  },
  {
   "cell_type": "markdown",
   "metadata": {},
   "source": [
    "# Homework\n",
    "## Question 1  \n",
    "Explain the concept of crowdsourcing. Provide examples of how it is commonly used in different fields.\n",
    "- Crowdsourcing is the action of acquirring work and information from a large group of people via the internet. This information can be obtained from social media and other forms of media throughout the internet. Crowdsourcing allows companies to work with people throughout the world and aquire a variety of different skills. In business and marketing, companies use crowdsourcing for tasks like logo design and market research, tapping into a global pool of talent. In technology and software development, open-source projects benefit from crowdsourced coding, bug identification, and data annotation for machine learning. The scientific community engages in crowdsourcing through citizen science initiatives, involving the public in research endeavors and complex problem-solving. Design and creative industries use crowdsourcing for idea generation and content creation, with platforms like Wikipedia relying on collaborative efforts. In humanitarian aid, disaster mapping and translation services are crowdsourced for efficient crisis response. In healthcare, drug discovery and diagnostic solutions benefit from the diverse expertise available through crowdsourcing. Education utilizes crowdsourcing for content creation and problem-solving, engaging students and educators globally. Entertainment and gaming industries may crowdsource game development aspects and creative content generation. Even in finance, crowdsourcing is used for gathering investment ideas and fraud dete.\n",
    "## Question 2  \n",
    "Discuss the benefits and challenges associated with crowdsourcing. How can organizations effectively harness the power of crowdsourcing while mitigating potential drawbacks?\n",
    "- Crowdsourcing is cost efficent because it allows access to talented workers without the need for a traditional workforce. Also, projects and work can be completed in a lesser amount of time due to the many contributors. Finally, the diversity of contributors can lead to innovative ideas and solutions that may have not emerged in a traditional setting. There might be complications when crowdsourcing such as difficulties in confidentiality and communication between the groups involved. There is also a slight chance of receiving low quality work if a collaborater misunderstands the project's requirements.\n",
    "## Question 3  \n",
    "Identify a real-world example of a successful crowdsourcing project. Explain the project, its goals, and the positive outcomes achieved through the collaboration of a large group of people.\n",
    "-  well-known example of crowdsourcing is the website Wikipedia. Wikipedia is an online encyclopedia where anybody can contribute and add information onto the site. \n",
    "### Question 4\n",
    "Create a hypothetical scenario where crowdsourcing could be applied to solve a specific problem. Describe the problem, the type of contributions you would seek from the crowd, and the potential impact of implementing the crowdsourced solution.\n",
    "- A rapidly growing city is facing increasing challenges related to urban mobility. Traffic congestion, inadequate public transportation routes, and inefficient traffic signal coordination contribute to daily commuting issues for residents. The local government is looking for innovative solutions to improve the overall transportation system and make commuting more efficient and sustainable. The city could launch a crowdsourcing initiative to gather ideas, data, and suggestions from its residents and transportation experts. The contributions sought from the crowd could include urban planning ideas, oublic transportation suggestions, and smart traffic signal coordination. The potential impact will include, innovation and creativity, data-driven decision-making, community engagement, and efficient urban mobility."
   ]
  }
 ],
 "metadata": {
  "language_info": {
   "name": "python"
  }
 },
 "nbformat": 4,
 "nbformat_minor": 2
}
