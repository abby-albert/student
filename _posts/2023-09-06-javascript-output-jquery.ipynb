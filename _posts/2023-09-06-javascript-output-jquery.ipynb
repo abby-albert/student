{
 "cells": [
  {
   "cell_type": "markdown",
   "metadata": {},
   "source": [
    "---\n",
    "title: End of Week Ticket\n",
    "toc: True\n",
    "description: dicription of what i wanted to do vs what I acutally did for each week\n",
    "courses: { csa: {week: 3} }\n",
    "type: tangibles\n",
    "---"
   ]
  },
  {
   "cell_type": "markdown",
   "metadata": {},
   "source": [
    "### Markdown Table\n",
    "Google [markdown cheat sheet](https://www.markdownguide.org/extended-syntax/#tables) and it lead you to an outline for how to make a table.\n",
    "\n",
    "| Week | What I planned | What I actually did |\n",
    "|------|-------|------|-------|-------|\n",
    "|Week 0|set up my computer to be ready to code|I set up most stuff, but ran into problems along the way so I wasn't able to finish|\n",
    "|Week 1|Finish seting up my computer and finish my home page for my blog, and present blog to teacher for tool check|I talked to the teacher and he helped me with the problems that came up, and finished my home page, tool checks went long, so we had to do it the following week|\n",
    "|Week 2|finish setting up blog, like replacing the \"CSA, CSSE, and CSP\" with \"Comp Sci\", present tool check to the teacher with my partner because we didn't get a chance to do so last week, present lab notebook check|worked on the page, but couldn't get it to show up, and we did our tool check, but lab notebook check went long so we had to do it the following week|\n",
    "|Week 3|present lab notebook check, fix and update things that the teacher reccomended from past lab notebook check and tools check, do our pair showcase|did lab notebook check, we fixed the things that we needed to, but did not get a chance to do our pair showcase|\n"
   ]
  },
  {
   "cell_type": "markdown",
   "metadata": {},
   "source": [
    "### HTML Table\n",
    "Google [w3schools html table](https://www.w3schools.com/html/html_tables.asp) and it will lead you to a tutorial on how to make tables."
   ]
  },
  {
   "cell_type": "code",
   "execution_count": 1,
   "metadata": {
    "vscode": {
     "languageId": "html"
    }
   },
   "outputs": [
    {
     "data": {
      "text/html": [
       "<table class=\"table\">\n",
       "    <thead>\n",
       "        <tr>\n",
       "            <th>Week</th>\n",
       "            <th>What I planned</th>\n",
       "            <th>What I actually did</th>\n",
       "        </tr>\n",
       "    </thead>\n",
       "    <tbody>\n",
       "        <tr>\n",
       "            <td>Week 0</td>\n",
       "            <td>set up my computer to be ready to code</td>\n",
       "            <td>I set up most stuff, but ran into problems along the way so I wasn't able to finish</td>\n",
       "        </tr>\n",
       "        <tr>\n",
       "            <td>Week 1</td>\n",
       "            <td>Finish seting up my computer and finish my home page for my blog, and present blog to teacher for tool check</td>\n",
       "            <td>I talked to the teacher and he helped me with the problems that came up, and finished my home page, tool checks went long, so we had to do it the following week</td>\n",
       "        </tr>\n",
       "        <tr>\n",
       "            <td>Week 2</td>\n",
       "            <td>finish setting up blog, like replacing the \"CSA, CSSE, and CSP\" with \"Comp Sci\", present tool check to the teacher with my partner because we didn't get a chance to do so last week, present lab notebook check</td>\n",
       "            <td>worked on the page, but couldn't get it to show up, and we did our tool check, but lab notebook check went long so we had to do it the following week</td>\n",
       "        </tr>\n",
       "        <tr>\n",
       "            <td>Week 3</td>\n",
       "            <td>present lab notebook check, fix and update things that the teacher reccomended from past lab notebook check and tools check, do our pair showcase</td>\n",
       "            <td>did lab notebook check, we fixed the things that we needed to, but did not get a chance to do our pair showcase</td>\n",
       "        </tr>\n",
       "        </tr>\n",
       "    </tbody>\n",
       "</table>\n"
      ],
      "text/plain": [
       "<IPython.core.display.HTML object>"
      ]
     },
     "metadata": {},
     "output_type": "display_data"
    }
   ],
   "source": [
    "%%html\n",
    "<table class=\"table\">\n",
    "    <thead>\n",
    "        <tr>\n",
    "            <th>Week</th>\n",
    "            <th>What I planned</th>\n",
    "            <th>What I actually did</th>\n",
    "        </tr>\n",
    "    </thead>\n",
    "    <tbody>\n",
    "        <tr>\n",
    "            <td>Week 0</td>\n",
    "            <td>set up my computer to be ready to code</td>\n",
    "            <td>I set up most stuff, but ran into problems along the way so I wasn't able to finish</td>\n",
    "        </tr>\n",
    "        <tr>\n",
    "            <td>Week 1</td>\n",
    "            <td>Finish seting up my computer and finish my home page for my blog, and present blog to teacher for tool check</td>\n",
    "            <td>I talked to the teacher and he helped me with the problems that came up, and finished my home page, tool checks went long, so we had to do it the following week</td>\n",
    "        </tr>\n",
    "        <tr>\n",
    "            <td>Week 2</td>\n",
    "            <td>finish setting up blog, like replacing the \"CSA, CSSE, and CSP\" with \"Comp Sci\", present tool check to the teacher with my partner because we didn't get a chance to do so last week, present lab notebook check</td>\n",
    "            <td>worked on the page, but couldn't get it to show up, and we did our tool check, but lab notebook check went long so we had to do it the following week</td>\n",
    "        </tr>\n",
    "        <tr>\n",
    "            <td>Week 3</td>\n",
    "            <td>present lab notebook check, fix and update things that the teacher reccomended from past lab notebook check and tools check, do our pair showcase</td>\n",
    "            <td>did lab notebook check, we fixed the things that we needed to, but did not get a chance to do our pair showcase</td>\n",
    "        </tr>\n",
    "        </tr>\n",
    "    </tbody>\n",
    "</table>"
   ]
  },
  {
   "cell_type": "markdown",
   "metadata": {},
   "source": [
    "### HTML Table with JavaScript jquery\n",
    "JavaScript is a programming language that works with HTML data, CSS helps to style that data.  In this example, we are using JavaScript and CSS that was developed by others (3rd party).  Addithing the 3rd party code makes the table interactive.\n",
    "- Look at the href and src on lines inside of the lines in `<head>` tags.  This is adding code to our page from others.\n",
    "- Observe the `<script>` tags at the bottom of the page.  This is generating the interactive table, from the third party code, using the data `<table id=\"demo\">` from the `<body>`.  "
   ]
  },
  {
   "cell_type": "code",
   "execution_count": 2,
   "metadata": {
    "vscode": {
     "languageId": "html"
    }
   },
   "outputs": [
    {
     "data": {
      "text/html": [
       "\n",
       "<!-- Head contains information to Support the Document -->\n",
       "<head>\n",
       "    <!-- load jQuery and DataTables output style and scripts -->\n",
       "    <link rel=\"stylesheet\" type=\"text/css\" href=\"https://cdn.datatables.net/1.13.4/css/jquery.dataTables.min.css\">\n",
       "    <script type=\"text/javascript\" language=\"javascript\" src=\"https://code.jquery.com/jquery-3.6.0.min.js\"></script>\n",
       "    <script>var define = null;</script>\n",
       "    <script type=\"text/javascript\" language=\"javascript\" src=\"https://cdn.datatables.net/1.13.4/js/jquery.dataTables.min.js\"></script>\n",
       "</head>\n",
       "\n",
       "<!-- Body contains the contents of the Document -->\n",
       "<body>\n",
       "    <table id=\"demo\" class=\"table\">\n",
       "        <thead>\n",
       "            <tr>\n",
       "                <td>Week 0</td>\n",
       "                <td>set up my computer to be ready to code</td>\n",
       "                <td>I set up most stuff, but ran into problems along the way so I wasn't able to finish</td>\n",
       "            </tr>\n",
       "            <tr>\n",
       "                <td>Week 1</td>\n",
       "                <td>Finish seting up my computer and finish my home page for my blog, and present blog to teacher for tool check</td>\n",
       "                <td>I talked to the teacher and he helped me with the problems that came up, and finished my home page, tool checks went long, so we had to do it the following week</td>\n",
       "            </tr>\n",
       "            <tr>\n",
       "                <td>Week 2</td>\n",
       "                <td>finish setting up blog, like replacing the \"CSA, CSSE, and CSP\" with \"Comp Sci\", present tool check to the teacher with my partner because we didn't get a chance to do so last week, present lab notebook check</td>\n",
       "                <td>worked on the page, but couldn't get it to show up, and we did our tool check, but lab notebook check went long so we had to do it the following week</td>\n",
       "            </tr>\n",
       "            <tr>\n",
       "                <td>Week 3</td>\n",
       "                <td>present lab notebook check, fix and update things that the teacher reccomended from past lab notebook check and tools check, do our pair showcase</td>\n",
       "                <td>did lab notebook check, we fixed the things that we needed to, but did not get a chance to do our pair showcase</td>\n",
       "            </tr>\n",
       "        </tbody>\n",
       "    </table>\n",
       "</body>\n",
       "\n",
       "<!-- Script is used to embed executable code -->\n",
       "<script>\n",
       "    $(\"#demo\").DataTable();\n",
       "</script>\n"
      ],
      "text/plain": [
       "<IPython.core.display.HTML object>"
      ]
     },
     "metadata": {},
     "output_type": "display_data"
    }
   ],
   "source": [
    "%%html\n",
    "\n",
    "<!-- Head contains information to Support the Document -->\n",
    "<head>\n",
    "    <!-- load jQuery and DataTables output style and scripts -->\n",
    "    <link rel=\"stylesheet\" type=\"text/css\" href=\"https://cdn.datatables.net/1.13.4/css/jquery.dataTables.min.css\">\n",
    "    <script type=\"text/javascript\" language=\"javascript\" src=\"https://code.jquery.com/jquery-3.6.0.min.js\"></script>\n",
    "    <script>var define = null;</script>\n",
    "    <script type=\"text/javascript\" language=\"javascript\" src=\"https://cdn.datatables.net/1.13.4/js/jquery.dataTables.min.js\"></script>\n",
    "</head>\n",
    "\n",
    "<!-- Body contains the contents of the Document -->\n",
    "<body>\n",
    "    <table id=\"demo\" class=\"table\">\n",
    "        <thead>\n",
    "            <tr>\n",
    "                <td>Week 0</td>\n",
    "                <td>set up my computer to be ready to code</td>\n",
    "                <td>I set up most stuff, but ran into problems along the way so I wasn't able to finish</td>\n",
    "            </tr>\n",
    "            <tr>\n",
    "                <td>Week 1</td>\n",
    "                <td>Finish seting up my computer and finish my home page for my blog, and present blog to teacher for tool check</td>\n",
    "                <td>I talked to the teacher and he helped me with the problems that came up, and finished my home page, tool checks went long, so we had to do it the following week</td>\n",
    "            </tr>\n",
    "            <tr>\n",
    "                <td>Week 2</td>\n",
    "                <td>finish setting up blog, like replacing the \"CSA, CSSE, and CSP\" with \"Comp Sci\", present tool check to the teacher with my partner because we didn't get a chance to do so last week, present lab notebook check</td>\n",
    "                <td>worked on the page, but couldn't get it to show up, and we did our tool check, but lab notebook check went long so we had to do it the following week</td>\n",
    "            </tr>\n",
    "            <tr>\n",
    "                <td>Week 3</td>\n",
    "                <td>present lab notebook check, fix and update things that the teacher reccomended from past lab notebook check and tools check, do our pair showcase</td>\n",
    "                <td>did lab notebook check, we fixed the things that we needed to, but did not get a chance to do our pair showcase</td>\n",
    "            </tr>\n",
    "        </tbody>\n",
    "    </table>\n",
    "</body>\n",
    "\n",
    "<!-- Script is used to embed executable code -->\n",
    "<script>\n",
    "    $(\"#demo\").DataTable();\n",
    "</script>\n"
   ]
  },
  {
   "cell_type": "markdown",
   "metadata": {},
   "source": [
    "## Hacks\n",
    "This lesson teaches you about tables.  In this hack, it is important that you analze the difference in the styles of output shown.  \n",
    "- Make your own tables, with data according to your interests.\n",
    "- Describe a benefit of a markdown table.\n",
    "- Try to Style the HTML table using w3schools.\n",
    "- Describe the difference between HTML and JavaScript.\n",
    "- Describe a benefit of a table that uses JavaScript.\n"
   ]
  }
 ],
 "metadata": {
  "kernelspec": {
   "display_name": "Python 3 (ipykernel)",
   "language": "python",
   "name": "python3"
  },
  "language_info": {
   "codemirror_mode": {
    "name": "ipython",
    "version": 3
   },
   "file_extension": ".py",
   "mimetype": "text/x-python",
   "name": "python",
   "nbconvert_exporter": "python",
   "pygments_lexer": "ipython3",
   "version": "3.11.4"
  }
 },
 "nbformat": 4,
 "nbformat_minor": 4
}
