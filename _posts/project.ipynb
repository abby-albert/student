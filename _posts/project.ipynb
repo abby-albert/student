{
 "cells": [
  {
   "cell_type": "code",
   "execution_count": 3,
   "metadata": {
    "vscode": {
     "languageId": "javascript"
    }
   },
   "outputs": [
    {
     "name": "stdout",
     "output_type": "stream",
     "text": [
      "hello world\n"
     ]
    }
   ],
   "source": [
    "print(\"hello world\")"
   ]
  },
  {
   "cell_type": "code",
   "execution_count": 1,
   "metadata": {
    "vscode": {
     "languageId": "javascript"
    }
   },
   "outputs": [
    {
     "ename": "SyntaxError",
     "evalue": "invalid decimal literal (330217827.py, line 8)",
     "output_type": "error",
     "traceback": [
      "\u001b[0;36m  Cell \u001b[0;32mIn[1], line 8\u001b[0;36m\u001b[0m\n\u001b[0;31m    border:1px solid #000;\u001b[0m\n\u001b[0m           ^\u001b[0m\n\u001b[0;31mSyntaxError\u001b[0m\u001b[0;31m:\u001b[0m invalid decimal literal\n"
     ]
    }
   ],
   "source": [
    "<!DOCTYPE html>\n",
    "<html>\n",
    "<head>\n",
    "    <title>Coloring Game</title>\n",
    "    <style>\n",
    "        /* Add styles for your coloring canvas */\n",
    "        #coloring-canvas {\n",
    "            border:1px solid #000;\n",
    "        }\n",
    "    </style>\n",
    "</head>\n",
    "<body>\n",
    "    <h1>Coloring Game</h1>\n",
    "    <canvas id=\"coloring-canvas\" width=\"400\" height=\"400\"></canvas>\n",
    "    <br>\n",
    "    <button onclick=\"changeColor()\">Change Color</button>\n",
    "\n",
    "    <script>\n",
    "        const canvas = document.getElementById(\"coloring-canvas\");\n",
    "        const ctx = canvas.getContext(\"2d\");\n",
    "\n",
    "        let currentColor = \"#FF0000\"; // Initial color\n",
    "\n",
    "        // Function to change the drawing color\n",
    "        function changeColor() {\n",
    "            currentColor = prompt(\"Enter a color (e.g., #FF0000 for red):\", currentColor);\n",
    "        }\n",
    "\n",
    "        // Event listener for mouse clicks\n",
    "        canvas.addEventListener(\"mousedown\", function (e) {\n",
    "            const x = e.clientX - canvas.getBoundingClientRect().left;\n",
    "            const y = e.clientY - canvas.getBoundingClientRect().top;\n",
    "\n",
    "            ctx.fillStyle = currentColor;\n",
    "            ctx.beginPath();\n",
    "            ctx.arc(x, y, 10, 0, Math.PI * 2);\n",
    "            ctx.fill();\n",
    "        });\n",
    "    </script>\n",
    "</body>\n",
    "</html>\n"
   ]
  }
 ],
 "metadata": {
  "kernelspec": {
   "display_name": "Python 3",
   "language": "python",
   "name": "python3"
  },
  "language_info": {
   "codemirror_mode": {
    "name": "ipython",
    "version": 3
   },
   "file_extension": ".py",
   "mimetype": "text/x-python",
   "name": "python",
   "nbconvert_exporter": "python",
   "pygments_lexer": "ipython3",
   "version": "3.11.4"
  },
  "orig_nbformat": 4
 },
 "nbformat": 4,
 "nbformat_minor": 2
}
